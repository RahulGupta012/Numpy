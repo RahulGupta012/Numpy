{
 "cells": [
  {
   "cell_type": "markdown",
   "id": "c8f7d39b-d853-446b-b2dc-8a5d9076ce55",
   "metadata": {},
   "source": [
    "                                             ASSIGNMENT: NUMPY"
   ]
  },
  {
   "cell_type": "code",
   "execution_count": 5,
   "id": "4536eb6c-fa2a-492d-9657-24f1e89ca821",
   "metadata": {},
   "outputs": [],
   "source": [
    "import numpy as np\n",
    "list_ = [ '1' , '2' , '3' , '4' , '5' ]\n",
    "array_list = np.array(object = list_)"
   ]
  },
  {
   "cell_type": "markdown",
   "id": "bf487921-06ba-43f7-9141-598b3a4247c8",
   "metadata": {},
   "source": [
    "Q1. Is there any difference in the data type of variables list_ and array_list? If there is then write a code\n",
    "to print the data types of both the variables.\n",
    "\n",
    "Q2. Write a code to print the data type of each and every element of both the variables list_ and\n",
    "arra_list."
   ]
  },
  {
   "cell_type": "markdown",
   "id": "91caa81d-3e2e-4365-abc6-1c6cb723b511",
   "metadata": {},
   "source": [
    "There are many differences between the list and arrays:\n",
    "Arrays are better for mathematical operations because the NumPy module provides us with an array structure to store data values and manipulate them easily.\n",
    "Arrays can only store elements of the same data type, but lists can store elements of different data types.\n"
   ]
  },
  {
   "cell_type": "code",
   "execution_count": 8,
   "id": "68b21851-5d68-4a8b-a943-213bcb722f18",
   "metadata": {},
   "outputs": [
    {
     "data": {
      "text/plain": [
       "list"
      ]
     },
     "execution_count": 8,
     "metadata": {},
     "output_type": "execute_result"
    }
   ],
   "source": [
    "type(list_)"
   ]
  },
  {
   "cell_type": "code",
   "execution_count": 9,
   "id": "61953016-fd1a-437d-989a-c928a1ddff68",
   "metadata": {},
   "outputs": [
    {
     "data": {
      "text/plain": [
       "numpy.ndarray"
      ]
     },
     "execution_count": 9,
     "metadata": {},
     "output_type": "execute_result"
    }
   ],
   "source": [
    "type(array_list)"
   ]
  },
  {
   "cell_type": "markdown",
   "id": "081f74a9-3f88-47e3-8b57-5bf669c52cfa",
   "metadata": {},
   "source": []
  },
  {
   "cell_type": "markdown",
   "id": "0b87e48e-b292-4a8c-9020-721b5e72265a",
   "metadata": {},
   "source": [
    "Q4. Write a code to find the following characteristics of variable, num_array:\n",
    "(i) shape\n",
    "(ii) size"
   ]
  },
  {
   "cell_type": "code",
   "execution_count": 13,
   "id": "7445d0cc-0141-47f4-8268-27c5c876e216",
   "metadata": {},
   "outputs": [
    {
     "data": {
      "text/plain": [
       "(5,)"
      ]
     },
     "execution_count": 13,
     "metadata": {},
     "output_type": "execute_result"
    }
   ],
   "source": [
    "np.shape(array_list)"
   ]
  },
  {
   "cell_type": "code",
   "execution_count": 14,
   "id": "23e1e020-2151-4ccb-9a73-262f4cc16d43",
   "metadata": {},
   "outputs": [
    {
     "data": {
      "text/plain": [
       "5"
      ]
     },
     "execution_count": 14,
     "metadata": {},
     "output_type": "execute_result"
    }
   ],
   "source": [
    "np.size(array_list)"
   ]
  },
  {
   "cell_type": "markdown",
   "id": "e3ad84a7-87fe-441e-a99e-5f83869103d0",
   "metadata": {},
   "source": [
    "Q5. Write a code to create numpy array of 3*3 matrix containing zeros only, using a numpy array\n",
    "creation function.\n",
    "[Hint: The size of the array will be 9 and the shape will be (3,3).]"
   ]
  },
  {
   "cell_type": "code",
   "execution_count": 19,
   "id": "60ebadb4-9016-41f9-9c41-fbfe5a646beb",
   "metadata": {},
   "outputs": [],
   "source": [
    "arr=np.zeros((3,3))"
   ]
  },
  {
   "cell_type": "code",
   "execution_count": 20,
   "id": "dbc97aec-192b-4732-ac12-446004617ee4",
   "metadata": {},
   "outputs": [
    {
     "data": {
      "text/plain": [
       "array([[0., 0., 0.],\n",
       "       [0., 0., 0.],\n",
       "       [0., 0., 0.]])"
      ]
     },
     "execution_count": 20,
     "metadata": {},
     "output_type": "execute_result"
    }
   ],
   "source": [
    "arr"
   ]
  },
  {
   "cell_type": "markdown",
   "id": "ca19cca3-0e6b-4542-b4ce-f998a62a4086",
   "metadata": {},
   "source": [
    "Q6. Create an identity matrix of shape (5,5) using numpy functions?\n",
    "[Hint: An identity matrix is a matrix containing 1 diagonally and other elements will be 0.]"
   ]
  },
  {
   "cell_type": "code",
   "execution_count": 34,
   "id": "82bd9634-72af-45e9-a21e-7b93ac0eb1fe",
   "metadata": {},
   "outputs": [],
   "source": [
    "arr=np.eye(5)"
   ]
  },
  {
   "cell_type": "code",
   "execution_count": 35,
   "id": "f5dc774a-c1d2-4dd1-a66a-9e8109e1d67e",
   "metadata": {},
   "outputs": [
    {
     "data": {
      "text/plain": [
       "array([[1., 0., 0., 0., 0.],\n",
       "       [0., 1., 0., 0., 0.],\n",
       "       [0., 0., 1., 0., 0.],\n",
       "       [0., 0., 0., 1., 0.],\n",
       "       [0., 0., 0., 0., 1.]])"
      ]
     },
     "execution_count": 35,
     "metadata": {},
     "output_type": "execute_result"
    }
   ],
   "source": [
    "arr\n"
   ]
  },
  {
   "cell_type": "code",
   "execution_count": null,
   "id": "6dc31dbe-ee23-4801-b7e8-e19a783df239",
   "metadata": {},
   "outputs": [],
   "source": []
  }
 ],
 "metadata": {
  "kernelspec": {
   "display_name": "Python 3 (ipykernel)",
   "language": "python",
   "name": "python3"
  },
  "language_info": {
   "codemirror_mode": {
    "name": "ipython",
    "version": 3
   },
   "file_extension": ".py",
   "mimetype": "text/x-python",
   "name": "python",
   "nbconvert_exporter": "python",
   "pygments_lexer": "ipython3",
   "version": "3.10.8"
  }
 },
 "nbformat": 4,
 "nbformat_minor": 5
}
